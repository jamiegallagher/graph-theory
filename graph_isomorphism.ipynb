{
 "cells": [
  {
   "cell_type": "markdown",
   "metadata": {},
   "source": [
    " # The Graph Isomorphism Problem"
   ]
  },
  {
   "cell_type": "code",
   "execution_count": 2,
   "metadata": {},
   "outputs": [
    {
     "name": "stdout",
     "output_type": "stream",
     "text": [
      "I suppose before we start off with discussing the problem, perhaps we should start off with what a Graph is in computing terms in order to understand the problem we're trying to solve.\n"
     ]
    }
   ],
   "source": [
    "print(\"I suppose before we start off with discussing the problem, perhaps we should start off with what a Graph is in computing terms in order to understand the problem we're trying to solve.\")"
   ]
  },
  {
   "attachments": {},
   "cell_type": "markdown",
   "metadata": {},
   "source": [
    "# Graphs"
   ]
  },
  {
   "cell_type": "code",
   "execution_count": 3,
   "metadata": {},
   "outputs": [
    {
     "name": "stdout",
     "output_type": "stream",
     "text": [
      "In computing terms, a graph is a way of making connections between objects and by objects we mean elements. \n"
     ]
    }
   ],
   "source": [
    "print(\"In computing terms, a graph is a way of making connections between objects and by objects we mean elements. \")"
   ]
  }
 ],
 "metadata": {
  "kernelspec": {
   "display_name": "Python 3",
   "language": "python",
   "name": "python3"
  },
  "language_info": {
   "codemirror_mode": {
    "name": "ipython",
    "version": 3
   },
   "file_extension": ".py",
   "mimetype": "text/x-python",
   "name": "python",
   "nbconvert_exporter": "python",
   "pygments_lexer": "ipython3",
   "version": "3.9.13"
  },
  "orig_nbformat": 4
 },
 "nbformat": 4,
 "nbformat_minor": 2
}
